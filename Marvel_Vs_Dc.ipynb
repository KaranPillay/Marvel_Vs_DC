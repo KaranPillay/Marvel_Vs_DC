{
 "cells": [
  {
   "cell_type": "code",
   "execution_count": 1,
   "metadata": {},
   "outputs": [],
   "source": [
    "import sys\n",
    "import pandas as pd\n",
    "import numpy as np \n",
    "import seaborn as sns \n",
    "import matplotlib.pyplot as plt \n",
    "import missingno as msno\n",
    "from wordcloud import WordCloud, STOPWORDS, ImageColorGenerator"
   ]
  },
  {
   "cell_type": "code",
   "execution_count": 2,
   "metadata": {
    "scrolled": true
   },
   "outputs": [],
   "source": [
    "dframe = pd.read_csv('Marvel_DC_imdb.csv', sep=',')"
   ]
  },
  {
   "cell_type": "code",
   "execution_count": 3,
   "metadata": {},
   "outputs": [
    {
     "data": {
      "text/html": [
       "<div>\n",
       "<style scoped>\n",
       "    .dataframe tbody tr th:only-of-type {\n",
       "        vertical-align: middle;\n",
       "    }\n",
       "\n",
       "    .dataframe tbody tr th {\n",
       "        vertical-align: top;\n",
       "    }\n",
       "\n",
       "    .dataframe thead th {\n",
       "        text-align: right;\n",
       "    }\n",
       "</style>\n",
       "<table border=\"1\" class=\"dataframe\">\n",
       "  <thead>\n",
       "    <tr style=\"text-align: right;\">\n",
       "      <th></th>\n",
       "      <th>Unnamed: 0</th>\n",
       "      <th>Movie</th>\n",
       "      <th>Year</th>\n",
       "      <th>Genre</th>\n",
       "      <th>RunTime</th>\n",
       "      <th>Rating</th>\n",
       "      <th>Director</th>\n",
       "      <th>Actor</th>\n",
       "      <th>Description</th>\n",
       "      <th>IMDB_Score</th>\n",
       "      <th>Metascore</th>\n",
       "      <th>Votes</th>\n",
       "      <th>USA_Gross</th>\n",
       "      <th>Category</th>\n",
       "    </tr>\n",
       "  </thead>\n",
       "  <tbody>\n",
       "    <tr>\n",
       "      <th>0</th>\n",
       "      <td>0</td>\n",
       "      <td>Eternals</td>\n",
       "      <td>(2021)</td>\n",
       "      <td>Action,Adventure,Drama</td>\n",
       "      <td>NaN</td>\n",
       "      <td>NaN</td>\n",
       "      <td>ChloéZhao</td>\n",
       "      <td>AngelinaJolie,GemmaChan,RichardMadden,BarryKeo...</td>\n",
       "      <td>The saga of the Eternals, a race of immortal b...</td>\n",
       "      <td>NaN</td>\n",
       "      <td>NaN</td>\n",
       "      <td>NaN</td>\n",
       "      <td>NaN</td>\n",
       "      <td>Marvel</td>\n",
       "    </tr>\n",
       "    <tr>\n",
       "      <th>1</th>\n",
       "      <td>1</td>\n",
       "      <td>Loki</td>\n",
       "      <td>(2021– )</td>\n",
       "      <td>Action,Adventure,Fantasy</td>\n",
       "      <td>NaN</td>\n",
       "      <td>NaN</td>\n",
       "      <td>NaN</td>\n",
       "      <td>TomHiddleston,OwenWilson,SophiaDiMartino,Richa...</td>\n",
       "      <td>A new Marvel chapter with Loki at its center.</td>\n",
       "      <td>NaN</td>\n",
       "      <td>NaN</td>\n",
       "      <td>NaN</td>\n",
       "      <td>NaN</td>\n",
       "      <td>Marvel</td>\n",
       "    </tr>\n",
       "    <tr>\n",
       "      <th>2</th>\n",
       "      <td>2</td>\n",
       "      <td>The Falcon and the Winter Soldier</td>\n",
       "      <td>(2021)</td>\n",
       "      <td>Action,Adventure,Drama</td>\n",
       "      <td>50 min</td>\n",
       "      <td>TV-14</td>\n",
       "      <td>NaN</td>\n",
       "      <td>AnthonyMackie,SebastianStan,WyattRussell,ErinK...</td>\n",
       "      <td>Following the events of 'Avengers: Endgame,' S...</td>\n",
       "      <td>7.5</td>\n",
       "      <td>NaN</td>\n",
       "      <td>105,557</td>\n",
       "      <td>NaN</td>\n",
       "      <td>Marvel</td>\n",
       "    </tr>\n",
       "    <tr>\n",
       "      <th>3</th>\n",
       "      <td>3</td>\n",
       "      <td>WandaVision</td>\n",
       "      <td>(2021)</td>\n",
       "      <td>Action,Comedy,Drama</td>\n",
       "      <td>350 min</td>\n",
       "      <td>TV-PG</td>\n",
       "      <td>NaN</td>\n",
       "      <td>ElizabethOlsen,PaulBettany,KathrynHahn,Teyonah...</td>\n",
       "      <td>Blends the style of classic sitcoms with the M...</td>\n",
       "      <td>8.1</td>\n",
       "      <td>NaN</td>\n",
       "      <td>174,710</td>\n",
       "      <td>NaN</td>\n",
       "      <td>Marvel</td>\n",
       "    </tr>\n",
       "    <tr>\n",
       "      <th>4</th>\n",
       "      <td>4</td>\n",
       "      <td>Spider-Man: No Way Home</td>\n",
       "      <td>(2021)</td>\n",
       "      <td>Action,Adventure,Sci-Fi</td>\n",
       "      <td>NaN</td>\n",
       "      <td>NaN</td>\n",
       "      <td>JonWatts</td>\n",
       "      <td>AngourieRice,TomHolland,Zendaya,MarisaTomei</td>\n",
       "      <td>A continuation of Spider-Man: Far From Home.</td>\n",
       "      <td>NaN</td>\n",
       "      <td>NaN</td>\n",
       "      <td>NaN</td>\n",
       "      <td>NaN</td>\n",
       "      <td>Marvel</td>\n",
       "    </tr>\n",
       "  </tbody>\n",
       "</table>\n",
       "</div>"
      ],
      "text/plain": [
       "   Unnamed: 0                              Movie      Year  \\\n",
       "0           0                           Eternals    (2021)   \n",
       "1           1                               Loki  (2021– )   \n",
       "2           2  The Falcon and the Winter Soldier    (2021)   \n",
       "3           3                        WandaVision    (2021)   \n",
       "4           4            Spider-Man: No Way Home    (2021)   \n",
       "\n",
       "                      Genre  RunTime Rating   Director  \\\n",
       "0    Action,Adventure,Drama      NaN    NaN  ChloéZhao   \n",
       "1  Action,Adventure,Fantasy      NaN    NaN        NaN   \n",
       "2    Action,Adventure,Drama   50 min  TV-14        NaN   \n",
       "3       Action,Comedy,Drama  350 min  TV-PG        NaN   \n",
       "4   Action,Adventure,Sci-Fi      NaN    NaN   JonWatts   \n",
       "\n",
       "                                               Actor  \\\n",
       "0  AngelinaJolie,GemmaChan,RichardMadden,BarryKeo...   \n",
       "1  TomHiddleston,OwenWilson,SophiaDiMartino,Richa...   \n",
       "2  AnthonyMackie,SebastianStan,WyattRussell,ErinK...   \n",
       "3  ElizabethOlsen,PaulBettany,KathrynHahn,Teyonah...   \n",
       "4        AngourieRice,TomHolland,Zendaya,MarisaTomei   \n",
       "\n",
       "                                         Description  IMDB_Score  Metascore  \\\n",
       "0  The saga of the Eternals, a race of immortal b...         NaN        NaN   \n",
       "1      A new Marvel chapter with Loki at its center.         NaN        NaN   \n",
       "2  Following the events of 'Avengers: Endgame,' S...         7.5        NaN   \n",
       "3  Blends the style of classic sitcoms with the M...         8.1        NaN   \n",
       "4       A continuation of Spider-Man: Far From Home.         NaN        NaN   \n",
       "\n",
       "     Votes USA_Gross Category  \n",
       "0      NaN       NaN   Marvel  \n",
       "1      NaN       NaN   Marvel  \n",
       "2  105,557       NaN   Marvel  \n",
       "3  174,710       NaN   Marvel  \n",
       "4      NaN       NaN   Marvel  "
      ]
     },
     "execution_count": 3,
     "metadata": {},
     "output_type": "execute_result"
    }
   ],
   "source": [
    "dframe.head()"
   ]
  },
  {
   "cell_type": "code",
   "execution_count": 4,
   "metadata": {},
   "outputs": [
    {
     "data": {
      "text/plain": [
       "Unnamed: 0        0\n",
       "Movie             0\n",
       "Year             33\n",
       "Genre             7\n",
       "RunTime         283\n",
       "Rating          227\n",
       "Director        216\n",
       "Actor            30\n",
       "Description       0\n",
       "IMDB_Score      204\n",
       "Metascore      1625\n",
       "Votes           204\n",
       "USA_Gross      1626\n",
       "Category          0\n",
       "dtype: int64"
      ]
     },
     "execution_count": 4,
     "metadata": {},
     "output_type": "execute_result"
    }
   ],
   "source": [
    "dframe.isna().sum()"
   ]
  },
  {
   "cell_type": "code",
   "execution_count": 5,
   "metadata": {},
   "outputs": [
    {
     "data": {
      "text/plain": [
       "(1690, 14)"
      ]
     },
     "execution_count": 5,
     "metadata": {},
     "output_type": "execute_result"
    }
   ],
   "source": [
    "dframe.shape"
   ]
  },
  {
   "cell_type": "markdown",
   "metadata": {},
   "source": [
    "## Plot missing values "
   ]
  },
  {
   "cell_type": "code",
   "execution_count": 6,
   "metadata": {},
   "outputs": [
    {
     "data": {
      "text/plain": [
       "<matplotlib.axes._subplots.AxesSubplot at 0x1fbb1096e50>"
      ]
     },
     "execution_count": 6,
     "metadata": {},
     "output_type": "execute_result"
    },
    {
     "data": {
      "image/png": "[encoded data removed]",
      "text/plain": [
       "<Figure size 1800x720 with 2 Axes>"
      ]
     },
     "metadata": {
      "needs_background": "light"
     },
     "output_type": "display_data"
    }
   ],
   "source": [
    "msno.matrix(dframe) #shows metascore and USA_Gross cloumns have almost all missing data "
   ]
  },
  {
   "cell_type": "code",
   "execution_count": 7,
   "metadata": {},
   "outputs": [],
   "source": [
    "dframe = dframe.drop(columns=['USA_Gross', 'Metascore', 'Unnamed: 0'])"
   ]
  },
  {
   "cell_type": "code",
   "execution_count": 8,
   "metadata": {},
   "outputs": [
    {
     "data": {
      "text/html": [
       "<div>\n",
       "<style scoped>\n",
       "    .dataframe tbody tr th:only-of-type {\n",
       "        vertical-align: middle;\n",
       "    }\n",
       "\n",
       "    .dataframe tbody tr th {\n",
       "        vertical-align: top;\n",
       "    }\n",
       "\n",
       "    .dataframe thead th {\n",
       "        text-align: right;\n",
       "    }\n",
       "</style>\n",
       "<table border=\"1\" class=\"dataframe\">\n",
       "  <thead>\n",
       "    <tr style=\"text-align: right;\">\n",
       "      <th></th>\n",
       "      <th>Movie</th>\n",
       "      <th>Year</th>\n",
       "      <th>Genre</th>\n",
       "      <th>RunTime</th>\n",
       "      <th>Rating</th>\n",
       "      <th>Director</th>\n",
       "      <th>Actor</th>\n",
       "      <th>Description</th>\n",
       "      <th>IMDB_Score</th>\n",
       "      <th>Votes</th>\n",
       "      <th>Category</th>\n",
       "    </tr>\n",
       "  </thead>\n",
       "  <tbody>\n",
       "    <tr>\n",
       "      <th>0</th>\n",
       "      <td>Eternals</td>\n",
       "      <td>(2021)</td>\n",
       "      <td>Action,Adventure,Drama</td>\n",
       "      <td>NaN</td>\n",
       "      <td>NaN</td>\n",
       "      <td>ChloéZhao</td>\n",
       "      <td>AngelinaJolie,GemmaChan,RichardMadden,BarryKeo...</td>\n",
       "      <td>The saga of the Eternals, a race of immortal b...</td>\n",
       "      <td>NaN</td>\n",
       "      <td>NaN</td>\n",
       "      <td>Marvel</td>\n",
       "    </tr>\n",
       "    <tr>\n",
       "      <th>1</th>\n",
       "      <td>Loki</td>\n",
       "      <td>(2021– )</td>\n",
       "      <td>Action,Adventure,Fantasy</td>\n",
       "      <td>NaN</td>\n",
       "      <td>NaN</td>\n",
       "      <td>NaN</td>\n",
       "      <td>TomHiddleston,OwenWilson,SophiaDiMartino,Richa...</td>\n",
       "      <td>A new Marvel chapter with Loki at its center.</td>\n",
       "      <td>NaN</td>\n",
       "      <td>NaN</td>\n",
       "      <td>Marvel</td>\n",
       "    </tr>\n",
       "    <tr>\n",
       "      <th>2</th>\n",
       "      <td>The Falcon and the Winter Soldier</td>\n",
       "      <td>(2021)</td>\n",
       "      <td>Action,Adventure,Drama</td>\n",
       "      <td>50 min</td>\n",
       "      <td>TV-14</td>\n",
       "      <td>NaN</td>\n",
       "      <td>AnthonyMackie,SebastianStan,WyattRussell,ErinK...</td>\n",
       "      <td>Following the events of 'Avengers: Endgame,' S...</td>\n",
       "      <td>7.5</td>\n",
       "      <td>105,557</td>\n",
       "      <td>Marvel</td>\n",
       "    </tr>\n",
       "    <tr>\n",
       "      <th>3</th>\n",
       "      <td>WandaVision</td>\n",
       "      <td>(2021)</td>\n",
       "      <td>Action,Comedy,Drama</td>\n",
       "      <td>350 min</td>\n",
       "      <td>TV-PG</td>\n",
       "      <td>NaN</td>\n",
       "      <td>ElizabethOlsen,PaulBettany,KathrynHahn,Teyonah...</td>\n",
       "      <td>Blends the style of classic sitcoms with the M...</td>\n",
       "      <td>8.1</td>\n",
       "      <td>174,710</td>\n",
       "      <td>Marvel</td>\n",
       "    </tr>\n",
       "    <tr>\n",
       "      <th>4</th>\n",
       "      <td>Spider-Man: No Way Home</td>\n",
       "      <td>(2021)</td>\n",
       "      <td>Action,Adventure,Sci-Fi</td>\n",
       "      <td>NaN</td>\n",
       "      <td>NaN</td>\n",
       "      <td>JonWatts</td>\n",
       "      <td>AngourieRice,TomHolland,Zendaya,MarisaTomei</td>\n",
       "      <td>A continuation of Spider-Man: Far From Home.</td>\n",
       "      <td>NaN</td>\n",
       "      <td>NaN</td>\n",
       "      <td>Marvel</td>\n",
       "    </tr>\n",
       "  </tbody>\n",
       "</table>\n",
       "</div>"
      ],
      "text/plain": [
       "                               Movie      Year                     Genre  \\\n",
       "0                           Eternals    (2021)    Action,Adventure,Drama   \n",
       "1                               Loki  (2021– )  Action,Adventure,Fantasy   \n",
       "2  The Falcon and the Winter Soldier    (2021)    Action,Adventure,Drama   \n",
       "3                        WandaVision    (2021)       Action,Comedy,Drama   \n",
       "4            Spider-Man: No Way Home    (2021)   Action,Adventure,Sci-Fi   \n",
       "\n",
       "   RunTime Rating   Director  \\\n",
       "0      NaN    NaN  ChloéZhao   \n",
       "1      NaN    NaN        NaN   \n",
       "2   50 min  TV-14        NaN   \n",
       "3  350 min  TV-PG        NaN   \n",
       "4      NaN    NaN   JonWatts   \n",
       "\n",
       "                                               Actor  \\\n",
       "0  AngelinaJolie,GemmaChan,RichardMadden,BarryKeo...   \n",
       "1  TomHiddleston,OwenWilson,SophiaDiMartino,Richa...   \n",
       "2  AnthonyMackie,SebastianStan,WyattRussell,ErinK...   \n",
       "3  ElizabethOlsen,PaulBettany,KathrynHahn,Teyonah...   \n",
       "4        AngourieRice,TomHolland,Zendaya,MarisaTomei   \n",
       "\n",
       "                                         Description  IMDB_Score    Votes  \\\n",
       "0  The saga of the Eternals, a race of immortal b...         NaN      NaN   \n",
       "1      A new Marvel chapter with Loki at its center.         NaN      NaN   \n",
       "2  Following the events of 'Avengers: Endgame,' S...         7.5  105,557   \n",
       "3  Blends the style of classic sitcoms with the M...         8.1  174,710   \n",
       "4       A continuation of Spider-Man: Far From Home.         NaN      NaN   \n",
       "\n",
       "  Category  \n",
       "0   Marvel  \n",
       "1   Marvel  \n",
       "2   Marvel  \n",
       "3   Marvel  \n",
       "4   Marvel  "
      ]
     },
     "execution_count": 8,
     "metadata": {},
     "output_type": "execute_result"
    }
   ],
   "source": [
    "dframe.head()"
   ]
  },
  {
   "cell_type": "code",
   "execution_count": 9,
   "metadata": {},
   "outputs": [
    {
     "name": "stdout",
     "output_type": "stream",
     "text": [
      "<class 'pandas.core.frame.DataFrame'>\n",
      "RangeIndex: 1690 entries, 0 to 1689\n",
      "Data columns (total 11 columns):\n",
      " #   Column       Non-Null Count  Dtype  \n",
      "---  ------       --------------  -----  \n",
      " 0   Movie        1690 non-null   object \n",
      " 1   Year         1657 non-null   object \n",
      " 2   Genre        1683 non-null   object \n",
      " 3   RunTime      1407 non-null   object \n",
      " 4   Rating       1463 non-null   object \n",
      " 5   Director     1474 non-null   object \n",
      " 6   Actor        1660 non-null   object \n",
      " 7   Description  1690 non-null   object \n",
      " 8   IMDB_Score   1486 non-null   float64\n",
      " 9   Votes        1486 non-null   object \n",
      " 10  Category     1690 non-null   object \n",
      "dtypes: float64(1), object(10)\n",
      "memory usage: 145.4+ KB\n"
     ]
    }
   ],
   "source": [
    "dframe.info()"
   ]
  },
  {
   "cell_type": "code",
   "execution_count": 10,
   "metadata": {},
   "outputs": [
    {
     "data": {
      "text/html": [
       "<div>\n",
       "<style scoped>\n",
       "    .dataframe tbody tr th:only-of-type {\n",
       "        vertical-align: middle;\n",
       "    }\n",
       "\n",
       "    .dataframe tbody tr th {\n",
       "        vertical-align: top;\n",
       "    }\n",
       "\n",
       "    .dataframe thead th {\n",
       "        text-align: right;\n",
       "    }\n",
       "</style>\n",
       "<table border=\"1\" class=\"dataframe\">\n",
       "  <thead>\n",
       "    <tr style=\"text-align: right;\">\n",
       "      <th></th>\n",
       "      <th>IMDB_Score</th>\n",
       "    </tr>\n",
       "  </thead>\n",
       "  <tbody>\n",
       "    <tr>\n",
       "      <th>count</th>\n",
       "      <td>1486.000000</td>\n",
       "    </tr>\n",
       "    <tr>\n",
       "      <th>mean</th>\n",
       "      <td>7.821467</td>\n",
       "    </tr>\n",
       "    <tr>\n",
       "      <th>std</th>\n",
       "      <td>0.918777</td>\n",
       "    </tr>\n",
       "    <tr>\n",
       "      <th>min</th>\n",
       "      <td>1.100000</td>\n",
       "    </tr>\n",
       "    <tr>\n",
       "      <th>25%</th>\n",
       "      <td>7.300000</td>\n",
       "    </tr>\n",
       "    <tr>\n",
       "      <th>50%</th>\n",
       "      <td>8.000000</td>\n",
       "    </tr>\n",
       "    <tr>\n",
       "      <th>75%</th>\n",
       "      <td>8.500000</td>\n",
       "    </tr>\n",
       "    <tr>\n",
       "      <th>max</th>\n",
       "      <td>9.600000</td>\n",
       "    </tr>\n",
       "  </tbody>\n",
       "</table>\n",
       "</div>"
      ],
      "text/plain": [
       "        IMDB_Score\n",
       "count  1486.000000\n",
       "mean      7.821467\n",
       "std       0.918777\n",
       "min       1.100000\n",
       "25%       7.300000\n",
       "50%       8.000000\n",
       "75%       8.500000\n",
       "max       9.600000"
      ]
     },
     "execution_count": 10,
     "metadata": {},
     "output_type": "execute_result"
    }
   ],
   "source": [
    "dframe.describe()"
   ]
  },
  {
   "cell_type": "code",
   "execution_count": 11,
   "metadata": {},
   "outputs": [],
   "source": [
    "dframe = dframe.dropna(axis=0) #dropping all missing values from rows of dframe"
   ]
  },
  {
   "cell_type": "code",
   "execution_count": 12,
   "metadata": {},
   "outputs": [
    {
     "data": {
      "text/plain": [
       "Movie          0\n",
       "Year           0\n",
       "Genre          0\n",
       "RunTime        0\n",
       "Rating         0\n",
       "Director       0\n",
       "Actor          0\n",
       "Description    0\n",
       "IMDB_Score     0\n",
       "Votes          0\n",
       "Category       0\n",
       "dtype: int64"
      ]
     },
     "execution_count": 12,
     "metadata": {},
     "output_type": "execute_result"
    }
   ],
   "source": [
    "dframe.isna().sum()"
   ]
  },
  {
   "cell_type": "code",
   "execution_count": 13,
   "metadata": {},
   "outputs": [
    {
     "data": {
      "text/plain": [
       "(1247, 11)"
      ]
     },
     "execution_count": 13,
     "metadata": {},
     "output_type": "execute_result"
    }
   ],
   "source": [
    "dframe.shape #we are left with 1247 rows, 443 rows has missing data "
   ]
  },
  {
   "cell_type": "code",
   "execution_count": 14,
   "metadata": {},
   "outputs": [
    {
     "data": {
      "text/plain": [
       "Index(['Movie', 'Year', 'Genre', 'RunTime', 'Rating', 'Director', 'Actor',\n",
       "       'Description', 'IMDB_Score', 'Votes', 'Category'],\n",
       "      dtype='object')"
      ]
     },
     "execution_count": 14,
     "metadata": {},
     "output_type": "execute_result"
    }
   ],
   "source": [
    "dframe.columns"
   ]
  },
  {
   "cell_type": "code",
   "execution_count": 15,
   "metadata": {},
   "outputs": [
    {
     "data": {
      "text/plain": [
       "<bound method IndexOpsMixin.value_counts of 6       PG-13\n",
       "7       PG-13\n",
       "9       PG-13\n",
       "10      PG-13\n",
       "11      PG-13\n",
       "        ...  \n",
       "1685    TV-14\n",
       "1686    TV-PG\n",
       "1687    TV-PG\n",
       "1688    TV-PG\n",
       "1689    TV-PG\n",
       "Name: Rating, Length: 1247, dtype: object>"
      ]
     },
     "execution_count": 15,
     "metadata": {},
     "output_type": "execute_result"
    }
   ],
   "source": [
    "dframe.Rating.value_counts"
   ]
  },
  {
   "cell_type": "code",
   "execution_count": 16,
   "metadata": {},
   "outputs": [
    {
     "data": {
      "text/plain": [
       "Movie           object\n",
       "Year            object\n",
       "Genre           object\n",
       "RunTime         object\n",
       "Rating          object\n",
       "Director        object\n",
       "Actor           object\n",
       "Description     object\n",
       "IMDB_Score     float64\n",
       "Votes           object\n",
       "Category        object\n",
       "dtype: object"
      ]
     },
     "execution_count": 16,
     "metadata": {},
     "output_type": "execute_result"
    }
   ],
   "source": [
    "dframe.dtypes"
   ]
  },
  {
   "cell_type": "markdown",
   "metadata": {},
   "source": [
    "## Word Cloud on Movies Column"
   ]
  },
  {
   "cell_type": "code",
   "execution_count": 17,
   "metadata": {},
   "outputs": [
    {
     "data": {
      "image/png": "[encoded data removed]",
      "text/plain": [
       "<Figure size 576x576 with 1 Axes>"
      ]
     },
     "metadata": {
      "needs_background": "light"
     },
     "output_type": "display_data"
    }
   ],
   "source": [
    "comment_words = ''\n",
    "stopwords = set(STOPWORDS)\n",
    "  \n",
    "# iterate through the csv file\n",
    "for val in dframe['Movie'].values:\n",
    "      \n",
    "    # typecaste each val to string\n",
    "    val = str(val)\n",
    "  \n",
    "    #split the value\n",
    "    tokens = val.split()\n",
    "      \n",
    "    # Converts each token into lowercase\n",
    "    for i in range(len(tokens)):\n",
    "        tokens[i] = tokens[i].lower()\n",
    "      \n",
    "    comment_words += \" \".join(tokens)+\" \"\n",
    "    \n",
    "    \n",
    "wordcloud = WordCloud(width = 3000, height = 2000, random_state=1, \n",
    "                      background_color='black', colormap='Set2', \n",
    "                      collocations=False, stopwords = STOPWORDS).generate(comment_words)\n",
    "  \n",
    "#plot the WordCloud image                       \n",
    "plt.figure(figsize = (8, 8), facecolor = None)\n",
    "plt.imshow(wordcloud, interpolation='bilinear')\n",
    "plt.axis(\"off\")\n",
    "plt.tight_layout(pad = 0)\n",
    "  \n",
    "plt.show()"
   ]
  },
  {
   "cell_type": "code",
   "execution_count": 18,
   "metadata": {},
   "outputs": [],
   "source": [
    "#dframe.plot(x = 'Year', y = 'IMDB_Score', ylim = ([0,10]), linewidth=2.5, figsize = (30,10))"
   ]
  },
  {
   "cell_type": "markdown",
   "metadata": {},
   "source": [
    "# Pre-Processing"
   ]
  },
  {
   "cell_type": "code",
   "execution_count": 19,
   "metadata": {},
   "outputs": [],
   "source": [
    "def convert_runtime(val):\n",
    "    \"\"\"\n",
    "    Convert the string number value to a float\n",
    "     - Remove $\n",
    "     - Remove commas\n",
    "     - Convert to float type\n",
    "    \"\"\"\n",
    "    new_val = val.replace('min','')\n",
    "    return int(new_val)"
   ]
  },
  {
   "cell_type": "code",
   "execution_count": 20,
   "metadata": {},
   "outputs": [],
   "source": [
    "converted_RunTime = dframe['RunTime'].apply(convert_runtime)"
   ]
  },
  {
   "cell_type": "code",
   "execution_count": 21,
   "metadata": {},
   "outputs": [],
   "source": [
    "def convert_Year(val):\n",
    "    \"\"\"\n",
    "    Convert the string number value to a float\n",
    "     - Remove $\n",
    "     - Remove commas\n",
    "     - Convert to float type\n",
    "    \"\"\"\n",
    "    new_val = val.replace('(','').replace(')', '').replace(' Video', '').replace(' TV Special','').replace('III ','').replace('–','').replace(' TV Movie','')\n",
    "    return int(new_val)"
   ]
  },
  {
   "cell_type": "code",
   "execution_count": 22,
   "metadata": {},
   "outputs": [],
   "source": [
    "converted_Year = dframe['Year'].apply(convert_Year)"
   ]
  },
  {
   "cell_type": "code",
   "execution_count": 23,
   "metadata": {},
   "outputs": [
    {
     "data": {
      "text/plain": [
       "<bound method IndexOpsMixin.value_counts of 6           2019\n",
       "7           2014\n",
       "9           2019\n",
       "10          2017\n",
       "11          2018\n",
       "          ...   \n",
       "1685        2016\n",
       "1686    20152021\n",
       "1687    20152021\n",
       "1688    20152021\n",
       "1689    20152021\n",
       "Name: Year, Length: 1247, dtype: int64>"
      ]
     },
     "execution_count": 23,
     "metadata": {},
     "output_type": "execute_result"
    }
   ],
   "source": [
    "converted_Year.value_counts"
   ]
  },
  {
   "cell_type": "code",
   "execution_count": 24,
   "metadata": {},
   "outputs": [
    {
     "data": {
      "text/plain": [
       "Index(['Movie', 'Year', 'Genre', 'RunTime', 'Rating', 'Director', 'Actor',\n",
       "       'Description', 'IMDB_Score', 'Votes', 'Category'],\n",
       "      dtype='object')"
      ]
     },
     "execution_count": 24,
     "metadata": {},
     "output_type": "execute_result"
    }
   ],
   "source": [
    "dframe.columns"
   ]
  },
  {
   "cell_type": "code",
   "execution_count": 25,
   "metadata": {},
   "outputs": [],
   "source": [
    "def convert_score(val):\n",
    "    \"\"\"\n",
    "    Convert the string number value to a float\n",
    "     - Remove $\n",
    "     - Remove commas\n",
    "     - Convert to float type\n",
    "    \"\"\"\n",
    "    \n",
    "    return int(val)"
   ]
  },
  {
   "cell_type": "code",
   "execution_count": 26,
   "metadata": {},
   "outputs": [],
   "source": [
    "def convert_votes(val):\n",
    "    \"\"\"\n",
    "    Convert the string number value to a float\n",
    "     - Remove $\n",
    "     - Remove commas\n",
    "     - Convert to float type\n",
    "    \"\"\"\n",
    "    new_val = val.replace(',','')\n",
    "    return int(new_val)"
   ]
  },
  {
   "cell_type": "code",
   "execution_count": 27,
   "metadata": {},
   "outputs": [],
   "source": [
    "converted_Votes = dframe['Votes'].apply(convert_votes)"
   ]
  },
  {
   "cell_type": "code",
   "execution_count": 28,
   "metadata": {},
   "outputs": [],
   "source": [
    "converted_IMDB_Score = dframe['IMDB_Score'].apply(convert_score)"
   ]
  },
  {
   "cell_type": "code",
   "execution_count": 29,
   "metadata": {},
   "outputs": [],
   "source": [
    "dframe.insert(8, \"C_IMDB_Score\", converted_IMDB_Score, True)\n",
    "dframe.insert(1, \"C_Year\", converted_Year, True)\n",
    "dframe.insert(3, \"C_RunTime\", converted_RunTime, True)\n",
    "dframe.insert(9, \"C_Votes\", converted_Votes, True)"
   ]
  },
  {
   "cell_type": "code",
   "execution_count": 30,
   "metadata": {},
   "outputs": [],
   "source": [
    "dframe = dframe.drop(['IMDB_Score', 'Year', 'RunTime', 'Votes'], axis = 1)"
   ]
  },
  {
   "cell_type": "code",
   "execution_count": 31,
   "metadata": {},
   "outputs": [
    {
     "data": {
      "text/html": [
       "<div>\n",
       "<style scoped>\n",
       "    .dataframe tbody tr th:only-of-type {\n",
       "        vertical-align: middle;\n",
       "    }\n",
       "\n",
       "    .dataframe tbody tr th {\n",
       "        vertical-align: top;\n",
       "    }\n",
       "\n",
       "    .dataframe thead th {\n",
       "        text-align: right;\n",
       "    }\n",
       "</style>\n",
       "<table border=\"1\" class=\"dataframe\">\n",
       "  <thead>\n",
       "    <tr style=\"text-align: right;\">\n",
       "      <th></th>\n",
       "      <th>Movie</th>\n",
       "      <th>C_Year</th>\n",
       "      <th>C_RunTime</th>\n",
       "      <th>Genre</th>\n",
       "      <th>Rating</th>\n",
       "      <th>Director</th>\n",
       "      <th>Actor</th>\n",
       "      <th>C_Votes</th>\n",
       "      <th>Description</th>\n",
       "      <th>C_IMDB_Score</th>\n",
       "      <th>Category</th>\n",
       "    </tr>\n",
       "  </thead>\n",
       "  <tbody>\n",
       "    <tr>\n",
       "      <th>6</th>\n",
       "      <td>Avengers: Endgame</td>\n",
       "      <td>2019</td>\n",
       "      <td>181</td>\n",
       "      <td>Action,Adventure,Drama</td>\n",
       "      <td>PG-13</td>\n",
       "      <td>AnthonyRusso,JoeRusso</td>\n",
       "      <td>RobertDowneyJr.,ChrisEvans,MarkRuffalo,ChrisHe...</td>\n",
       "      <td>880911</td>\n",
       "      <td>After the devastating events of Avengers: Infi...</td>\n",
       "      <td>8</td>\n",
       "      <td>Marvel</td>\n",
       "    </tr>\n",
       "    <tr>\n",
       "      <th>7</th>\n",
       "      <td>Guardians of the Galaxy</td>\n",
       "      <td>2014</td>\n",
       "      <td>121</td>\n",
       "      <td>Action,Adventure,Comedy</td>\n",
       "      <td>PG-13</td>\n",
       "      <td>JamesGunn</td>\n",
       "      <td>ChrisPratt,VinDiesel,BradleyCooper,ZoeSaldana</td>\n",
       "      <td>1066222</td>\n",
       "      <td>A group of intergalactic criminals must pull t...</td>\n",
       "      <td>8</td>\n",
       "      <td>Marvel</td>\n",
       "    </tr>\n",
       "    <tr>\n",
       "      <th>9</th>\n",
       "      <td>Spider-Man: Far from Home</td>\n",
       "      <td>2019</td>\n",
       "      <td>129</td>\n",
       "      <td>Action,Adventure,Sci-Fi</td>\n",
       "      <td>PG-13</td>\n",
       "      <td>JonWatts</td>\n",
       "      <td>TomHolland,SamuelL.Jackson,JakeGyllenhaal,Mari...</td>\n",
       "      <td>348047</td>\n",
       "      <td>Following the events of Avengers: Endgame (201...</td>\n",
       "      <td>7</td>\n",
       "      <td>Marvel</td>\n",
       "    </tr>\n",
       "    <tr>\n",
       "      <th>10</th>\n",
       "      <td>Thor: Ragnarok</td>\n",
       "      <td>2017</td>\n",
       "      <td>130</td>\n",
       "      <td>Action,Adventure,Comedy</td>\n",
       "      <td>PG-13</td>\n",
       "      <td>TaikaWaititi</td>\n",
       "      <td>ChrisHemsworth,TomHiddleston,CateBlanchett,Mar...</td>\n",
       "      <td>615860</td>\n",
       "      <td>Imprisoned on the planet Sakaar, Thor must rac...</td>\n",
       "      <td>7</td>\n",
       "      <td>Marvel</td>\n",
       "    </tr>\n",
       "    <tr>\n",
       "      <th>11</th>\n",
       "      <td>Avengers: Infinity War</td>\n",
       "      <td>2018</td>\n",
       "      <td>149</td>\n",
       "      <td>Action,Adventure,Sci-Fi</td>\n",
       "      <td>PG-13</td>\n",
       "      <td>AnthonyRusso,JoeRusso</td>\n",
       "      <td>RobertDowneyJr.,ChrisHemsworth,MarkRuffalo,Chr...</td>\n",
       "      <td>881638</td>\n",
       "      <td>The Avengers and their allies must be willing ...</td>\n",
       "      <td>8</td>\n",
       "      <td>Marvel</td>\n",
       "    </tr>\n",
       "  </tbody>\n",
       "</table>\n",
       "</div>"
      ],
      "text/plain": [
       "                        Movie  C_Year  C_RunTime                    Genre  \\\n",
       "6           Avengers: Endgame    2019        181   Action,Adventure,Drama   \n",
       "7     Guardians of the Galaxy    2014        121  Action,Adventure,Comedy   \n",
       "9   Spider-Man: Far from Home    2019        129  Action,Adventure,Sci-Fi   \n",
       "10             Thor: Ragnarok    2017        130  Action,Adventure,Comedy   \n",
       "11     Avengers: Infinity War    2018        149  Action,Adventure,Sci-Fi   \n",
       "\n",
       "   Rating               Director  \\\n",
       "6   PG-13  AnthonyRusso,JoeRusso   \n",
       "7   PG-13              JamesGunn   \n",
       "9   PG-13               JonWatts   \n",
       "10  PG-13           TaikaWaititi   \n",
       "11  PG-13  AnthonyRusso,JoeRusso   \n",
       "\n",
       "                                                Actor  C_Votes  \\\n",
       "6   RobertDowneyJr.,ChrisEvans,MarkRuffalo,ChrisHe...   880911   \n",
       "7       ChrisPratt,VinDiesel,BradleyCooper,ZoeSaldana  1066222   \n",
       "9   TomHolland,SamuelL.Jackson,JakeGyllenhaal,Mari...   348047   \n",
       "10  ChrisHemsworth,TomHiddleston,CateBlanchett,Mar...   615860   \n",
       "11  RobertDowneyJr.,ChrisHemsworth,MarkRuffalo,Chr...   881638   \n",
       "\n",
       "                                          Description  C_IMDB_Score Category  \n",
       "6   After the devastating events of Avengers: Infi...             8   Marvel  \n",
       "7   A group of intergalactic criminals must pull t...             8   Marvel  \n",
       "9   Following the events of Avengers: Endgame (201...             7   Marvel  \n",
       "10  Imprisoned on the planet Sakaar, Thor must rac...             7   Marvel  \n",
       "11  The Avengers and their allies must be willing ...             8   Marvel  "
      ]
     },
     "execution_count": 31,
     "metadata": {},
     "output_type": "execute_result"
    }
   ],
   "source": [
    "dframe.head()"
   ]
  },
  {
   "cell_type": "code",
   "execution_count": 32,
   "metadata": {},
   "outputs": [
    {
     "data": {
      "text/plain": [
       "<seaborn.axisgrid.FacetGrid at 0x1fbb124e070>"
      ]
     },
     "execution_count": 32,
     "metadata": {},
     "output_type": "execute_result"
    },
    {
     "data": {
      "image/png": "[encoded data removed]",
      "text/plain": [
       "<Figure size 445.625x360 with 1 Axes>"
      ]
     },
     "metadata": {
      "needs_background": "light"
     },
     "output_type": "display_data"
    }
   ],
   "source": [
    "sns.catplot(x=\"Category\", y=\"C_IMDB_Score\", kind = 'bar', hue='Rating', palette=\"vlag\", data=dframe)"
   ]
  },
  {
   "cell_type": "code",
   "execution_count": 33,
   "metadata": {},
   "outputs": [
    {
     "data": {
      "image/png": "[encoded data removed]",
      "text/plain": [
       "<Figure size 720x504 with 1 Axes>"
      ]
     },
     "metadata": {},
     "output_type": "display_data"
    }
   ],
   "source": [
    "sns.set_style('ticks')\n",
    "fig, ax = plt.subplots()\n",
    "fig.set_size_inches(10, 7)\n",
    "plt.ylim(0, 10)\n",
    "plt.title(\"Distribution of Rating by IMDB Score, Separated by Category\")\n",
    "sns.boxenplot(x='Rating', y='C_IMDB_Score', data=dframe, palette='hls', hue='Category',linewidth=2.5)\n",
    "plt.legend(loc='lower right', fancybox=True)\n",
    "sns.despine()"
   ]
  },
  {
   "cell_type": "code",
   "execution_count": 34,
   "metadata": {},
   "outputs": [
    {
     "data": {
      "text/html": [
       "<div>\n",
       "<style scoped>\n",
       "    .dataframe tbody tr th:only-of-type {\n",
       "        vertical-align: middle;\n",
       "    }\n",
       "\n",
       "    .dataframe tbody tr th {\n",
       "        vertical-align: top;\n",
       "    }\n",
       "\n",
       "    .dataframe thead th {\n",
       "        text-align: right;\n",
       "    }\n",
       "</style>\n",
       "<table border=\"1\" class=\"dataframe\">\n",
       "  <thead>\n",
       "    <tr style=\"text-align: right;\">\n",
       "      <th></th>\n",
       "      <th>Movie</th>\n",
       "      <th>C_Year</th>\n",
       "      <th>C_RunTime</th>\n",
       "      <th>Genre</th>\n",
       "      <th>Rating</th>\n",
       "      <th>Director</th>\n",
       "      <th>Actor</th>\n",
       "      <th>C_Votes</th>\n",
       "      <th>Description</th>\n",
       "      <th>C_IMDB_Score</th>\n",
       "      <th>Category</th>\n",
       "    </tr>\n",
       "  </thead>\n",
       "  <tbody>\n",
       "    <tr>\n",
       "      <th>6</th>\n",
       "      <td>Avengers: Endgame</td>\n",
       "      <td>2019</td>\n",
       "      <td>181</td>\n",
       "      <td>Action,Adventure,Drama</td>\n",
       "      <td>PG-13</td>\n",
       "      <td>AnthonyRusso,JoeRusso</td>\n",
       "      <td>RobertDowneyJr.,ChrisEvans,MarkRuffalo,ChrisHe...</td>\n",
       "      <td>880911</td>\n",
       "      <td>After the devastating events of Avengers: Infi...</td>\n",
       "      <td>8</td>\n",
       "      <td>Marvel</td>\n",
       "    </tr>\n",
       "    <tr>\n",
       "      <th>7</th>\n",
       "      <td>Guardians of the Galaxy</td>\n",
       "      <td>2014</td>\n",
       "      <td>121</td>\n",
       "      <td>Action,Adventure,Comedy</td>\n",
       "      <td>PG-13</td>\n",
       "      <td>JamesGunn</td>\n",
       "      <td>ChrisPratt,VinDiesel,BradleyCooper,ZoeSaldana</td>\n",
       "      <td>1066222</td>\n",
       "      <td>A group of intergalactic criminals must pull t...</td>\n",
       "      <td>8</td>\n",
       "      <td>Marvel</td>\n",
       "    </tr>\n",
       "    <tr>\n",
       "      <th>9</th>\n",
       "      <td>Spider-Man: Far from Home</td>\n",
       "      <td>2019</td>\n",
       "      <td>129</td>\n",
       "      <td>Action,Adventure,Sci-Fi</td>\n",
       "      <td>PG-13</td>\n",
       "      <td>JonWatts</td>\n",
       "      <td>TomHolland,SamuelL.Jackson,JakeGyllenhaal,Mari...</td>\n",
       "      <td>348047</td>\n",
       "      <td>Following the events of Avengers: Endgame (201...</td>\n",
       "      <td>7</td>\n",
       "      <td>Marvel</td>\n",
       "    </tr>\n",
       "    <tr>\n",
       "      <th>10</th>\n",
       "      <td>Thor: Ragnarok</td>\n",
       "      <td>2017</td>\n",
       "      <td>130</td>\n",
       "      <td>Action,Adventure,Comedy</td>\n",
       "      <td>PG-13</td>\n",
       "      <td>TaikaWaititi</td>\n",
       "      <td>ChrisHemsworth,TomHiddleston,CateBlanchett,Mar...</td>\n",
       "      <td>615860</td>\n",
       "      <td>Imprisoned on the planet Sakaar, Thor must rac...</td>\n",
       "      <td>7</td>\n",
       "      <td>Marvel</td>\n",
       "    </tr>\n",
       "    <tr>\n",
       "      <th>11</th>\n",
       "      <td>Avengers: Infinity War</td>\n",
       "      <td>2018</td>\n",
       "      <td>149</td>\n",
       "      <td>Action,Adventure,Sci-Fi</td>\n",
       "      <td>PG-13</td>\n",
       "      <td>AnthonyRusso,JoeRusso</td>\n",
       "      <td>RobertDowneyJr.,ChrisHemsworth,MarkRuffalo,Chr...</td>\n",
       "      <td>881638</td>\n",
       "      <td>The Avengers and their allies must be willing ...</td>\n",
       "      <td>8</td>\n",
       "      <td>Marvel</td>\n",
       "    </tr>\n",
       "  </tbody>\n",
       "</table>\n",
       "</div>"
      ],
      "text/plain": [
       "                        Movie  C_Year  C_RunTime                    Genre  \\\n",
       "6           Avengers: Endgame    2019        181   Action,Adventure,Drama   \n",
       "7     Guardians of the Galaxy    2014        121  Action,Adventure,Comedy   \n",
       "9   Spider-Man: Far from Home    2019        129  Action,Adventure,Sci-Fi   \n",
       "10             Thor: Ragnarok    2017        130  Action,Adventure,Comedy   \n",
       "11     Avengers: Infinity War    2018        149  Action,Adventure,Sci-Fi   \n",
       "\n",
       "   Rating               Director  \\\n",
       "6   PG-13  AnthonyRusso,JoeRusso   \n",
       "7   PG-13              JamesGunn   \n",
       "9   PG-13               JonWatts   \n",
       "10  PG-13           TaikaWaititi   \n",
       "11  PG-13  AnthonyRusso,JoeRusso   \n",
       "\n",
       "                                                Actor  C_Votes  \\\n",
       "6   RobertDowneyJr.,ChrisEvans,MarkRuffalo,ChrisHe...   880911   \n",
       "7       ChrisPratt,VinDiesel,BradleyCooper,ZoeSaldana  1066222   \n",
       "9   TomHolland,SamuelL.Jackson,JakeGyllenhaal,Mari...   348047   \n",
       "10  ChrisHemsworth,TomHiddleston,CateBlanchett,Mar...   615860   \n",
       "11  RobertDowneyJr.,ChrisHemsworth,MarkRuffalo,Chr...   881638   \n",
       "\n",
       "                                          Description  C_IMDB_Score Category  \n",
       "6   After the devastating events of Avengers: Infi...             8   Marvel  \n",
       "7   A group of intergalactic criminals must pull t...             8   Marvel  \n",
       "9   Following the events of Avengers: Endgame (201...             7   Marvel  \n",
       "10  Imprisoned on the planet Sakaar, Thor must rac...             7   Marvel  \n",
       "11  The Avengers and their allies must be willing ...             8   Marvel  "
      ]
     },
     "execution_count": 34,
     "metadata": {},
     "output_type": "execute_result"
    }
   ],
   "source": [
    "dframe.head()"
   ]
  },
  {
   "cell_type": "code",
   "execution_count": 35,
   "metadata": {},
   "outputs": [],
   "source": [
    "group_avg_rating = dframe['C_IMDB_Score'].groupby(dframe['Category'])"
   ]
  },
  {
   "cell_type": "code",
   "execution_count": 36,
   "metadata": {},
   "outputs": [
    {
     "data": {
      "text/plain": [
       "Category\n",
       "DC        7.613131\n",
       "Marvel    7.182879\n",
       "Name: C_IMDB_Score, dtype: float64"
      ]
     },
     "execution_count": 36,
     "metadata": {},
     "output_type": "execute_result"
    }
   ],
   "source": [
    "group_avg_rating.mean() #average rating for DC is more than Marvel"
   ]
  },
  {
   "cell_type": "code",
   "execution_count": 37,
   "metadata": {},
   "outputs": [
    {
     "data": {
      "text/plain": [
       "Category\n",
       "DC        990\n",
       "Marvel    257\n",
       "dtype: int64"
      ]
     },
     "execution_count": 37,
     "metadata": {},
     "output_type": "execute_result"
    }
   ],
   "source": [
    "dframe.groupby(['Category']).size() #this is a bias dataset as there are only 257 Marvel movies in the cleaned dataset "
   ]
  },
  {
   "cell_type": "code",
   "execution_count": 38,
   "metadata": {},
   "outputs": [],
   "source": [
    "group_avg_runtime = dframe['C_RunTime'].groupby(dframe['Category'])"
   ]
  },
  {
   "cell_type": "code",
   "execution_count": 39,
   "metadata": {},
   "outputs": [
    {
     "data": {
      "text/plain": [
       "Category\n",
       "DC        38.145455\n",
       "Marvel    56.945525\n",
       "Name: C_RunTime, dtype: float64"
      ]
     },
     "execution_count": 39,
     "metadata": {},
     "output_type": "execute_result"
    }
   ],
   "source": [
    "group_avg_runtime.mean()"
   ]
  },
  {
   "cell_type": "code",
   "execution_count": 40,
   "metadata": {},
   "outputs": [],
   "source": [
    "group_avg_Votes = dframe['C_Votes'].groupby(dframe['Category'])"
   ]
  },
  {
   "cell_type": "code",
   "execution_count": 41,
   "metadata": {},
   "outputs": [
    {
     "data": {
      "text/plain": [
       "Category\n",
       "DC        17242.289899\n",
       "Marvel    69761.789883\n",
       "Name: C_Votes, dtype: float64"
      ]
     },
     "execution_count": 41,
     "metadata": {},
     "output_type": "execute_result"
    }
   ],
   "source": [
    "group_avg_Votes.mean()"
   ]
  },
  {
   "cell_type": "code",
   "execution_count": 42,
   "metadata": {},
   "outputs": [],
   "source": [
    "dframe_rating = dframe.groupby('C_IMDB_Score')"
   ]
  },
  {
   "cell_type": "code",
   "execution_count": 43,
   "metadata": {},
   "outputs": [
    {
     "data": {
      "text/html": [
       "<div>\n",
       "<style scoped>\n",
       "    .dataframe tbody tr th:only-of-type {\n",
       "        vertical-align: middle;\n",
       "    }\n",
       "\n",
       "    .dataframe tbody tr th {\n",
       "        vertical-align: top;\n",
       "    }\n",
       "\n",
       "    .dataframe thead tr th {\n",
       "        text-align: left;\n",
       "    }\n",
       "\n",
       "    .dataframe thead tr:last-of-type th {\n",
       "        text-align: right;\n",
       "    }\n",
       "</style>\n",
       "<table border=\"1\" class=\"dataframe\">\n",
       "  <thead>\n",
       "    <tr>\n",
       "      <th></th>\n",
       "      <th colspan=\"8\" halign=\"left\">C_Year</th>\n",
       "      <th colspan=\"5\" halign=\"left\">C_RunTime</th>\n",
       "      <th colspan=\"8\" halign=\"left\">C_Votes</th>\n",
       "    </tr>\n",
       "    <tr>\n",
       "      <th></th>\n",
       "      <th>count</th>\n",
       "      <th>mean</th>\n",
       "      <th>std</th>\n",
       "      <th>min</th>\n",
       "      <th>25%</th>\n",
       "      <th>50%</th>\n",
       "      <th>75%</th>\n",
       "      <th>max</th>\n",
       "      <th>count</th>\n",
       "      <th>mean</th>\n",
       "      <th>...</th>\n",
       "      <th>75%</th>\n",
       "      <th>max</th>\n",
       "      <th>count</th>\n",
       "      <th>mean</th>\n",
       "      <th>std</th>\n",
       "      <th>min</th>\n",
       "      <th>25%</th>\n",
       "      <th>50%</th>\n",
       "      <th>75%</th>\n",
       "      <th>max</th>\n",
       "    </tr>\n",
       "    <tr>\n",
       "      <th>C_IMDB_Score</th>\n",
       "      <th></th>\n",
       "      <th></th>\n",
       "      <th></th>\n",
       "      <th></th>\n",
       "      <th></th>\n",
       "      <th></th>\n",
       "      <th></th>\n",
       "      <th></th>\n",
       "      <th></th>\n",
       "      <th></th>\n",
       "      <th></th>\n",
       "      <th></th>\n",
       "      <th></th>\n",
       "      <th></th>\n",
       "      <th></th>\n",
       "      <th></th>\n",
       "      <th></th>\n",
       "      <th></th>\n",
       "      <th></th>\n",
       "      <th></th>\n",
       "      <th></th>\n",
       "    </tr>\n",
       "  </thead>\n",
       "  <tbody>\n",
       "    <tr>\n",
       "      <th>3</th>\n",
       "      <td>2.0</td>\n",
       "      <td>2.000500e+03</td>\n",
       "      <td>4.949747e+00</td>\n",
       "      <td>1997.0</td>\n",
       "      <td>1998.75</td>\n",
       "      <td>2000.5</td>\n",
       "      <td>2002.25</td>\n",
       "      <td>2004.0</td>\n",
       "      <td>2.0</td>\n",
       "      <td>114.500000</td>\n",
       "      <td>...</td>\n",
       "      <td>119.75</td>\n",
       "      <td>125.0</td>\n",
       "      <td>2.0</td>\n",
       "      <td>175029.500000</td>\n",
       "      <td>88096.312548</td>\n",
       "      <td>112736.0</td>\n",
       "      <td>143882.75</td>\n",
       "      <td>175029.5</td>\n",
       "      <td>206176.25</td>\n",
       "      <td>237323.0</td>\n",
       "    </tr>\n",
       "    <tr>\n",
       "      <th>4</th>\n",
       "      <td>4.0</td>\n",
       "      <td>1.000700e+07</td>\n",
       "      <td>1.155278e+07</td>\n",
       "      <td>1984.0</td>\n",
       "      <td>2005.75</td>\n",
       "      <td>10007008.5</td>\n",
       "      <td>20012004.00</td>\n",
       "      <td>20012004.0</td>\n",
       "      <td>4.0</td>\n",
       "      <td>70.000000</td>\n",
       "      <td>...</td>\n",
       "      <td>84.25</td>\n",
       "      <td>124.0</td>\n",
       "      <td>4.0</td>\n",
       "      <td>5383.750000</td>\n",
       "      <td>9319.989498</td>\n",
       "      <td>17.0</td>\n",
       "      <td>38.75</td>\n",
       "      <td>1119.0</td>\n",
       "      <td>6464.00</td>\n",
       "      <td>19280.0</td>\n",
       "    </tr>\n",
       "    <tr>\n",
       "      <th>5</th>\n",
       "      <td>37.0</td>\n",
       "      <td>9.194707e+06</td>\n",
       "      <td>1.010842e+07</td>\n",
       "      <td>1982.0</td>\n",
       "      <td>2007.00</td>\n",
       "      <td>2018.0</td>\n",
       "      <td>20012004.00</td>\n",
       "      <td>20012004.0</td>\n",
       "      <td>37.0</td>\n",
       "      <td>74.000000</td>\n",
       "      <td>...</td>\n",
       "      <td>92.00</td>\n",
       "      <td>187.0</td>\n",
       "      <td>37.0</td>\n",
       "      <td>52558.783784</td>\n",
       "      <td>122066.443498</td>\n",
       "      <td>19.0</td>\n",
       "      <td>22.00</td>\n",
       "      <td>848.0</td>\n",
       "      <td>34009.00</td>\n",
       "      <td>620461.0</td>\n",
       "    </tr>\n",
       "    <tr>\n",
       "      <th>6</th>\n",
       "      <td>97.0</td>\n",
       "      <td>1.321582e+07</td>\n",
       "      <td>9.537846e+06</td>\n",
       "      <td>1980.0</td>\n",
       "      <td>2017.00</td>\n",
       "      <td>20012004.0</td>\n",
       "      <td>20012004.00</td>\n",
       "      <td>20172021.0</td>\n",
       "      <td>97.0</td>\n",
       "      <td>62.113402</td>\n",
       "      <td>...</td>\n",
       "      <td>75.00</td>\n",
       "      <td>229.0</td>\n",
       "      <td>97.0</td>\n",
       "      <td>49656.206186</td>\n",
       "      <td>148397.501538</td>\n",
       "      <td>17.0</td>\n",
       "      <td>29.00</td>\n",
       "      <td>235.0</td>\n",
       "      <td>3430.00</td>\n",
       "      <td>761947.0</td>\n",
       "    </tr>\n",
       "    <tr>\n",
       "      <th>7</th>\n",
       "      <td>382.0</td>\n",
       "      <td>1.653269e+07</td>\n",
       "      <td>7.634148e+06</td>\n",
       "      <td>1978.0</td>\n",
       "      <td>19921995.00</td>\n",
       "      <td>20012011.0</td>\n",
       "      <td>20117017.75</td>\n",
       "      <td>20182019.0</td>\n",
       "      <td>382.0</td>\n",
       "      <td>40.183246</td>\n",
       "      <td>...</td>\n",
       "      <td>43.00</td>\n",
       "      <td>175.0</td>\n",
       "      <td>382.0</td>\n",
       "      <td>36716.890052</td>\n",
       "      <td>144057.176998</td>\n",
       "      <td>6.0</td>\n",
       "      <td>265.25</td>\n",
       "      <td>954.0</td>\n",
       "      <td>1891.25</td>\n",
       "      <td>960817.0</td>\n",
       "    </tr>\n",
       "    <tr>\n",
       "      <th>8</th>\n",
       "      <td>605.0</td>\n",
       "      <td>1.601626e+07</td>\n",
       "      <td>8.055392e+06</td>\n",
       "      <td>1999.0</td>\n",
       "      <td>19921995.00</td>\n",
       "      <td>20012011.0</td>\n",
       "      <td>20132020.00</td>\n",
       "      <td>20182019.0</td>\n",
       "      <td>605.0</td>\n",
       "      <td>38.244628</td>\n",
       "      <td>...</td>\n",
       "      <td>43.00</td>\n",
       "      <td>181.0</td>\n",
       "      <td>605.0</td>\n",
       "      <td>18442.710744</td>\n",
       "      <td>136140.130017</td>\n",
       "      <td>5.0</td>\n",
       "      <td>584.00</td>\n",
       "      <td>1082.0</td>\n",
       "      <td>2116.00</td>\n",
       "      <td>1547852.0</td>\n",
       "    </tr>\n",
       "    <tr>\n",
       "      <th>9</th>\n",
       "      <td>120.0</td>\n",
       "      <td>1.338043e+07</td>\n",
       "      <td>9.499839e+06</td>\n",
       "      <td>2008.0</td>\n",
       "      <td>2016.00</td>\n",
       "      <td>20012011.0</td>\n",
       "      <td>20132020.00</td>\n",
       "      <td>20172019.0</td>\n",
       "      <td>120.0</td>\n",
       "      <td>38.658333</td>\n",
       "      <td>...</td>\n",
       "      <td>43.00</td>\n",
       "      <td>152.0</td>\n",
       "      <td>120.0</td>\n",
       "      <td>22350.283333</td>\n",
       "      <td>215309.337292</td>\n",
       "      <td>6.0</td>\n",
       "      <td>713.50</td>\n",
       "      <td>2082.0</td>\n",
       "      <td>3212.25</td>\n",
       "      <td>2361064.0</td>\n",
       "    </tr>\n",
       "  </tbody>\n",
       "</table>\n",
       "<p>7 rows × 24 columns</p>\n",
       "</div>"
      ],
      "text/plain": [
       "             C_Year                                                   \\\n",
       "              count          mean           std     min          25%   \n",
       "C_IMDB_Score                                                           \n",
       "3               2.0  2.000500e+03  4.949747e+00  1997.0      1998.75   \n",
       "4               4.0  1.000700e+07  1.155278e+07  1984.0      2005.75   \n",
       "5              37.0  9.194707e+06  1.010842e+07  1982.0      2007.00   \n",
       "6              97.0  1.321582e+07  9.537846e+06  1980.0      2017.00   \n",
       "7             382.0  1.653269e+07  7.634148e+06  1978.0  19921995.00   \n",
       "8             605.0  1.601626e+07  8.055392e+06  1999.0  19921995.00   \n",
       "9             120.0  1.338043e+07  9.499839e+06  2008.0      2016.00   \n",
       "\n",
       "                                                  C_RunTime              ...  \\\n",
       "                     50%          75%         max     count        mean  ...   \n",
       "C_IMDB_Score                                                             ...   \n",
       "3                 2000.5      2002.25      2004.0       2.0  114.500000  ...   \n",
       "4             10007008.5  20012004.00  20012004.0       4.0   70.000000  ...   \n",
       "5                 2018.0  20012004.00  20012004.0      37.0   74.000000  ...   \n",
       "6             20012004.0  20012004.00  20172021.0      97.0   62.113402  ...   \n",
       "7             20012011.0  20117017.75  20182019.0     382.0   40.183246  ...   \n",
       "8             20012011.0  20132020.00  20182019.0     605.0   38.244628  ...   \n",
       "9             20012011.0  20132020.00  20172019.0     120.0   38.658333  ...   \n",
       "\n",
       "                            C_Votes                                          \\\n",
       "                 75%    max   count           mean            std       min   \n",
       "C_IMDB_Score                                                                  \n",
       "3             119.75  125.0     2.0  175029.500000   88096.312548  112736.0   \n",
       "4              84.25  124.0     4.0    5383.750000    9319.989498      17.0   \n",
       "5              92.00  187.0    37.0   52558.783784  122066.443498      19.0   \n",
       "6              75.00  229.0    97.0   49656.206186  148397.501538      17.0   \n",
       "7              43.00  175.0   382.0   36716.890052  144057.176998       6.0   \n",
       "8              43.00  181.0   605.0   18442.710744  136140.130017       5.0   \n",
       "9              43.00  152.0   120.0   22350.283333  215309.337292       6.0   \n",
       "\n",
       "                                                         \n",
       "                    25%       50%        75%        max  \n",
       "C_IMDB_Score                                             \n",
       "3             143882.75  175029.5  206176.25   237323.0  \n",
       "4                 38.75    1119.0    6464.00    19280.0  \n",
       "5                 22.00     848.0   34009.00   620461.0  \n",
       "6                 29.00     235.0    3430.00   761947.0  \n",
       "7                265.25     954.0    1891.25   960817.0  \n",
       "8                584.00    1082.0    2116.00  1547852.0  \n",
       "9                713.50    2082.0    3212.25  2361064.0  \n",
       "\n",
       "[7 rows x 24 columns]"
      ]
     },
     "execution_count": 43,
     "metadata": {},
     "output_type": "execute_result"
    }
   ],
   "source": [
    "dframe_rating.describe()"
   ]
  },
  {
   "cell_type": "code",
   "execution_count": 44,
   "metadata": {},
   "outputs": [],
   "source": [
    "def ranker(df):\n",
    "    df['movie_imdb_score_rank'] = np.arange(len(df)) + 1\n",
    "    return df"
   ]
  },
  {
   "cell_type": "code",
   "execution_count": 45,
   "metadata": {},
   "outputs": [],
   "source": [
    "dframe.sort_values('C_IMDB_Score', ascending=False, inplace=True)"
   ]
  },
  {
   "cell_type": "code",
   "execution_count": 46,
   "metadata": {},
   "outputs": [],
   "source": [
    "dframe = dframe.groupby('Category').apply(ranker)"
   ]
  },
  {
   "cell_type": "code",
   "execution_count": 47,
   "metadata": {},
   "outputs": [
    {
     "data": {
      "text/html": [
       "<div>\n",
       "<style scoped>\n",
       "    .dataframe tbody tr th:only-of-type {\n",
       "        vertical-align: middle;\n",
       "    }\n",
       "\n",
       "    .dataframe tbody tr th {\n",
       "        vertical-align: top;\n",
       "    }\n",
       "\n",
       "    .dataframe thead th {\n",
       "        text-align: right;\n",
       "    }\n",
       "</style>\n",
       "<table border=\"1\" class=\"dataframe\">\n",
       "  <thead>\n",
       "    <tr style=\"text-align: right;\">\n",
       "      <th></th>\n",
       "      <th>Movie</th>\n",
       "      <th>C_Year</th>\n",
       "      <th>C_RunTime</th>\n",
       "      <th>Genre</th>\n",
       "      <th>Rating</th>\n",
       "      <th>Director</th>\n",
       "      <th>Actor</th>\n",
       "      <th>C_Votes</th>\n",
       "      <th>Description</th>\n",
       "      <th>C_IMDB_Score</th>\n",
       "      <th>Category</th>\n",
       "      <th>movie_imdb_score_rank</th>\n",
       "    </tr>\n",
       "  </thead>\n",
       "  <tbody>\n",
       "    <tr>\n",
       "      <th>230</th>\n",
       "      <td>WandaVision</td>\n",
       "      <td>2021</td>\n",
       "      <td>47</td>\n",
       "      <td>Action,Comedy,Drama</td>\n",
       "      <td>TV-PG</td>\n",
       "      <td>MattShakman</td>\n",
       "      <td>ElizabethOlsen,PaulBettany,KathrynHahn,JulianH...</td>\n",
       "      <td>17490</td>\n",
       "      <td>Wanda embarks on a troubling journey revisitin...</td>\n",
       "      <td>9</td>\n",
       "      <td>Marvel</td>\n",
       "      <td>1</td>\n",
       "    </tr>\n",
       "    <tr>\n",
       "      <th>1401</th>\n",
       "      <td>Lucifer</td>\n",
       "      <td>2016</td>\n",
       "      <td>43</td>\n",
       "      <td>Crime,Drama,Fantasy</td>\n",
       "      <td>TV-14</td>\n",
       "      <td>AlrickRiley</td>\n",
       "      <td>TomEllis,LaurenGerman,KevinAlejandro,D.B.Woodside</td>\n",
       "      <td>5631</td>\n",
       "      <td>Lucifer returns to hell to find an antidote fo...</td>\n",
       "      <td>9</td>\n",
       "      <td>DC</td>\n",
       "      <td>1</td>\n",
       "    </tr>\n",
       "    <tr>\n",
       "      <th>1220</th>\n",
       "      <td>Young Justice</td>\n",
       "      <td>2010</td>\n",
       "      <td>22</td>\n",
       "      <td>Animation,Action,Adventure</td>\n",
       "      <td>TV-PG</td>\n",
       "      <td>MichaelChang</td>\n",
       "      <td>JesseMcCartney,DanicaMcKellar,StephanieLemelin...</td>\n",
       "      <td>660</td>\n",
       "      <td>When the cave is attacked, can Artemis and Rob...</td>\n",
       "      <td>9</td>\n",
       "      <td>DC</td>\n",
       "      <td>2</td>\n",
       "    </tr>\n",
       "    <tr>\n",
       "      <th>278</th>\n",
       "      <td>Agents of S.H.I.E.L.D.</td>\n",
       "      <td>20132020</td>\n",
       "      <td>43</td>\n",
       "      <td>Action,Adventure,Drama</td>\n",
       "      <td>TV-PG</td>\n",
       "      <td>JesseBochco</td>\n",
       "      <td>ClarkGregg,Ming-NaWen,BrettDalton,ChloeBennet</td>\n",
       "      <td>4623</td>\n",
       "      <td>After her dramatic rescue from another planet,...</td>\n",
       "      <td>9</td>\n",
       "      <td>Marvel</td>\n",
       "      <td>2</td>\n",
       "    </tr>\n",
       "    <tr>\n",
       "      <th>281</th>\n",
       "      <td>Agents of S.H.I.E.L.D.</td>\n",
       "      <td>20132020</td>\n",
       "      <td>43</td>\n",
       "      <td>Action,Adventure,Drama</td>\n",
       "      <td>TV-PG</td>\n",
       "      <td>GarryA.Brown</td>\n",
       "      <td>ClarkGregg,Ming-NaWen,BrettDalton,ChloeBennet</td>\n",
       "      <td>2686</td>\n",
       "      <td>Dangerous facts about the ATCU are discovered ...</td>\n",
       "      <td>9</td>\n",
       "      <td>Marvel</td>\n",
       "      <td>3</td>\n",
       "    </tr>\n",
       "  </tbody>\n",
       "</table>\n",
       "</div>"
      ],
      "text/plain": [
       "                        Movie    C_Year  C_RunTime  \\\n",
       "230               WandaVision      2021         47   \n",
       "1401                  Lucifer      2016         43   \n",
       "1220            Young Justice      2010         22   \n",
       "278    Agents of S.H.I.E.L.D.  20132020         43   \n",
       "281    Agents of S.H.I.E.L.D.  20132020         43   \n",
       "\n",
       "                           Genre Rating      Director  \\\n",
       "230          Action,Comedy,Drama  TV-PG   MattShakman   \n",
       "1401         Crime,Drama,Fantasy  TV-14   AlrickRiley   \n",
       "1220  Animation,Action,Adventure  TV-PG  MichaelChang   \n",
       "278       Action,Adventure,Drama  TV-PG   JesseBochco   \n",
       "281       Action,Adventure,Drama  TV-PG  GarryA.Brown   \n",
       "\n",
       "                                                  Actor  C_Votes  \\\n",
       "230   ElizabethOlsen,PaulBettany,KathrynHahn,JulianH...    17490   \n",
       "1401  TomEllis,LaurenGerman,KevinAlejandro,D.B.Woodside     5631   \n",
       "1220  JesseMcCartney,DanicaMcKellar,StephanieLemelin...      660   \n",
       "278       ClarkGregg,Ming-NaWen,BrettDalton,ChloeBennet     4623   \n",
       "281       ClarkGregg,Ming-NaWen,BrettDalton,ChloeBennet     2686   \n",
       "\n",
       "                                            Description  C_IMDB_Score  \\\n",
       "230   Wanda embarks on a troubling journey revisitin...             9   \n",
       "1401  Lucifer returns to hell to find an antidote fo...             9   \n",
       "1220  When the cave is attacked, can Artemis and Rob...             9   \n",
       "278   After her dramatic rescue from another planet,...             9   \n",
       "281   Dangerous facts about the ATCU are discovered ...             9   \n",
       "\n",
       "     Category  movie_imdb_score_rank  \n",
       "230    Marvel                      1  \n",
       "1401       DC                      1  \n",
       "1220       DC                      2  \n",
       "278    Marvel                      2  \n",
       "281    Marvel                      3  "
      ]
     },
     "execution_count": 47,
     "metadata": {},
     "output_type": "execute_result"
    }
   ],
   "source": [
    "dframe.head()"
   ]
  },
  {
   "cell_type": "code",
   "execution_count": 48,
   "metadata": {},
   "outputs": [],
   "source": [
    "num_score = dframe['C_IMDB_Score'].value_counts()"
   ]
  },
  {
   "cell_type": "code",
   "execution_count": 49,
   "metadata": {},
   "outputs": [
    {
     "data": {
      "text/html": [
       "<div>\n",
       "<style scoped>\n",
       "    .dataframe tbody tr th:only-of-type {\n",
       "        vertical-align: middle;\n",
       "    }\n",
       "\n",
       "    .dataframe tbody tr th {\n",
       "        vertical-align: top;\n",
       "    }\n",
       "\n",
       "    .dataframe thead th {\n",
       "        text-align: right;\n",
       "    }\n",
       "</style>\n",
       "<table border=\"1\" class=\"dataframe\">\n",
       "  <thead>\n",
       "    <tr style=\"text-align: right;\">\n",
       "      <th></th>\n",
       "      <th>Movie</th>\n",
       "      <th>C_Year</th>\n",
       "      <th>C_RunTime</th>\n",
       "      <th>Genre</th>\n",
       "      <th>Rating</th>\n",
       "      <th>Director</th>\n",
       "      <th>Actor</th>\n",
       "      <th>C_Votes</th>\n",
       "      <th>Description</th>\n",
       "      <th>C_IMDB_Score</th>\n",
       "      <th>Category</th>\n",
       "      <th>movie_imdb_score_rank</th>\n",
       "    </tr>\n",
       "  </thead>\n",
       "  <tbody>\n",
       "    <tr>\n",
       "      <th>230</th>\n",
       "      <td>WandaVision</td>\n",
       "      <td>2021</td>\n",
       "      <td>47</td>\n",
       "      <td>Action,Comedy,Drama</td>\n",
       "      <td>TV-PG</td>\n",
       "      <td>MattShakman</td>\n",
       "      <td>ElizabethOlsen,PaulBettany,KathrynHahn,JulianH...</td>\n",
       "      <td>17490</td>\n",
       "      <td>Wanda embarks on a troubling journey revisitin...</td>\n",
       "      <td>9</td>\n",
       "      <td>Marvel</td>\n",
       "      <td>1</td>\n",
       "    </tr>\n",
       "    <tr>\n",
       "      <th>1401</th>\n",
       "      <td>Lucifer</td>\n",
       "      <td>2016</td>\n",
       "      <td>43</td>\n",
       "      <td>Crime,Drama,Fantasy</td>\n",
       "      <td>TV-14</td>\n",
       "      <td>AlrickRiley</td>\n",
       "      <td>TomEllis,LaurenGerman,KevinAlejandro,D.B.Woodside</td>\n",
       "      <td>5631</td>\n",
       "      <td>Lucifer returns to hell to find an antidote fo...</td>\n",
       "      <td>9</td>\n",
       "      <td>DC</td>\n",
       "      <td>1</td>\n",
       "    </tr>\n",
       "    <tr>\n",
       "      <th>1220</th>\n",
       "      <td>Young Justice</td>\n",
       "      <td>2010</td>\n",
       "      <td>22</td>\n",
       "      <td>Animation,Action,Adventure</td>\n",
       "      <td>TV-PG</td>\n",
       "      <td>MichaelChang</td>\n",
       "      <td>JesseMcCartney,DanicaMcKellar,StephanieLemelin...</td>\n",
       "      <td>660</td>\n",
       "      <td>When the cave is attacked, can Artemis and Rob...</td>\n",
       "      <td>9</td>\n",
       "      <td>DC</td>\n",
       "      <td>2</td>\n",
       "    </tr>\n",
       "    <tr>\n",
       "      <th>278</th>\n",
       "      <td>Agents of S.H.I.E.L.D.</td>\n",
       "      <td>20132020</td>\n",
       "      <td>43</td>\n",
       "      <td>Action,Adventure,Drama</td>\n",
       "      <td>TV-PG</td>\n",
       "      <td>JesseBochco</td>\n",
       "      <td>ClarkGregg,Ming-NaWen,BrettDalton,ChloeBennet</td>\n",
       "      <td>4623</td>\n",
       "      <td>After her dramatic rescue from another planet,...</td>\n",
       "      <td>9</td>\n",
       "      <td>Marvel</td>\n",
       "      <td>2</td>\n",
       "    </tr>\n",
       "    <tr>\n",
       "      <th>281</th>\n",
       "      <td>Agents of S.H.I.E.L.D.</td>\n",
       "      <td>20132020</td>\n",
       "      <td>43</td>\n",
       "      <td>Action,Adventure,Drama</td>\n",
       "      <td>TV-PG</td>\n",
       "      <td>GarryA.Brown</td>\n",
       "      <td>ClarkGregg,Ming-NaWen,BrettDalton,ChloeBennet</td>\n",
       "      <td>2686</td>\n",
       "      <td>Dangerous facts about the ATCU are discovered ...</td>\n",
       "      <td>9</td>\n",
       "      <td>Marvel</td>\n",
       "      <td>3</td>\n",
       "    </tr>\n",
       "    <tr>\n",
       "      <th>282</th>\n",
       "      <td>Agents of S.H.I.E.L.D.</td>\n",
       "      <td>20132020</td>\n",
       "      <td>43</td>\n",
       "      <td>Action,Adventure,Drama</td>\n",
       "      <td>TV-PG</td>\n",
       "      <td>KateWoods</td>\n",
       "      <td>ClarkGregg,Ming-NaWen,BrettDalton,ChloeBennet</td>\n",
       "      <td>2710</td>\n",
       "      <td>Ward's vendetta and plan for revenge against S...</td>\n",
       "      <td>9</td>\n",
       "      <td>Marvel</td>\n",
       "      <td>4</td>\n",
       "    </tr>\n",
       "    <tr>\n",
       "      <th>283</th>\n",
       "      <td>Agents of S.H.I.E.L.D.</td>\n",
       "      <td>20132020</td>\n",
       "      <td>42</td>\n",
       "      <td>Action,Adventure,Drama</td>\n",
       "      <td>TV-PG</td>\n",
       "      <td>VincentMisiano</td>\n",
       "      <td>ClarkGregg,Ming-NaWen,BrettDalton,ChloeBennet</td>\n",
       "      <td>2892</td>\n",
       "      <td>S.H.I.E.L.D battles Hydra head-to-head, which ...</td>\n",
       "      <td>9</td>\n",
       "      <td>Marvel</td>\n",
       "      <td>5</td>\n",
       "    </tr>\n",
       "  </tbody>\n",
       "</table>\n",
       "</div>"
      ],
      "text/plain": [
       "                        Movie    C_Year  C_RunTime  \\\n",
       "230               WandaVision      2021         47   \n",
       "1401                  Lucifer      2016         43   \n",
       "1220            Young Justice      2010         22   \n",
       "278    Agents of S.H.I.E.L.D.  20132020         43   \n",
       "281    Agents of S.H.I.E.L.D.  20132020         43   \n",
       "282    Agents of S.H.I.E.L.D.  20132020         43   \n",
       "283    Agents of S.H.I.E.L.D.  20132020         42   \n",
       "\n",
       "                           Genre Rating        Director  \\\n",
       "230          Action,Comedy,Drama  TV-PG     MattShakman   \n",
       "1401         Crime,Drama,Fantasy  TV-14     AlrickRiley   \n",
       "1220  Animation,Action,Adventure  TV-PG    MichaelChang   \n",
       "278       Action,Adventure,Drama  TV-PG     JesseBochco   \n",
       "281       Action,Adventure,Drama  TV-PG    GarryA.Brown   \n",
       "282       Action,Adventure,Drama  TV-PG       KateWoods   \n",
       "283       Action,Adventure,Drama  TV-PG  VincentMisiano   \n",
       "\n",
       "                                                  Actor  C_Votes  \\\n",
       "230   ElizabethOlsen,PaulBettany,KathrynHahn,JulianH...    17490   \n",
       "1401  TomEllis,LaurenGerman,KevinAlejandro,D.B.Woodside     5631   \n",
       "1220  JesseMcCartney,DanicaMcKellar,StephanieLemelin...      660   \n",
       "278       ClarkGregg,Ming-NaWen,BrettDalton,ChloeBennet     4623   \n",
       "281       ClarkGregg,Ming-NaWen,BrettDalton,ChloeBennet     2686   \n",
       "282       ClarkGregg,Ming-NaWen,BrettDalton,ChloeBennet     2710   \n",
       "283       ClarkGregg,Ming-NaWen,BrettDalton,ChloeBennet     2892   \n",
       "\n",
       "                                            Description  C_IMDB_Score  \\\n",
       "230   Wanda embarks on a troubling journey revisitin...             9   \n",
       "1401  Lucifer returns to hell to find an antidote fo...             9   \n",
       "1220  When the cave is attacked, can Artemis and Rob...             9   \n",
       "278   After her dramatic rescue from another planet,...             9   \n",
       "281   Dangerous facts about the ATCU are discovered ...             9   \n",
       "282   Ward's vendetta and plan for revenge against S...             9   \n",
       "283   S.H.I.E.L.D battles Hydra head-to-head, which ...             9   \n",
       "\n",
       "     Category  movie_imdb_score_rank  \n",
       "230    Marvel                      1  \n",
       "1401       DC                      1  \n",
       "1220       DC                      2  \n",
       "278    Marvel                      2  \n",
       "281    Marvel                      3  \n",
       "282    Marvel                      4  \n",
       "283    Marvel                      5  "
      ]
     },
     "execution_count": 49,
     "metadata": {},
     "output_type": "execute_result"
    }
   ],
   "source": [
    "dframe[dframe.C_IMDB_Score ==9].head(len(num_score))"
   ]
  },
  {
   "cell_type": "code",
   "execution_count": 50,
   "metadata": {},
   "outputs": [
    {
     "name": "stdout",
     "output_type": "stream",
     "text": [
      "<class 'pandas.core.frame.DataFrame'>\n",
      "Int64Index: 1247 entries, 230 to 415\n",
      "Data columns (total 12 columns):\n",
      " #   Column                 Non-Null Count  Dtype \n",
      "---  ------                 --------------  ----- \n",
      " 0   Movie                  1247 non-null   object\n",
      " 1   C_Year                 1247 non-null   int64 \n",
      " 2   C_RunTime              1247 non-null   int64 \n",
      " 3   Genre                  1247 non-null   object\n",
      " 4   Rating                 1247 non-null   object\n",
      " 5   Director               1247 non-null   object\n",
      " 6   Actor                  1247 non-null   object\n",
      " 7   C_Votes                1247 non-null   int64 \n",
      " 8   Description            1247 non-null   object\n",
      " 9   C_IMDB_Score           1247 non-null   int64 \n",
      " 10  Category               1247 non-null   object\n",
      " 11  movie_imdb_score_rank  1247 non-null   int32 \n",
      "dtypes: int32(1), int64(4), object(7)\n",
      "memory usage: 121.8+ KB\n"
     ]
    }
   ],
   "source": [
    "dframe.info()"
   ]
  },
  {
   "cell_type": "markdown",
   "metadata": {},
   "source": [
    "## Applying weighted Average "
   ]
  },
  {
   "cell_type": "code",
   "execution_count": 51,
   "metadata": {},
   "outputs": [],
   "source": [
    "v = dframe['C_IMDB_Score']        # Number of votes for the movie\n",
    "R = dframe['C_Votes']             # Vote average of a movie which is a number from 0 to 10\n",
    "C = dframe['C_Votes'].mean()      # The mean vote across the whole report \n",
    "m = dframe['C_IMDB_Score'].quantile(0.7)"
   ]
  },
  {
   "cell_type": "code",
   "execution_count": 52,
   "metadata": {},
   "outputs": [],
   "source": [
    "dframe['Weighted_average'] = ((R*v)+(C*m))/(v+m)"
   ]
  },
  {
   "cell_type": "code",
   "execution_count": 53,
   "metadata": {},
   "outputs": [
    {
     "data": {
      "text/html": [
       "<div>\n",
       "<style scoped>\n",
       "    .dataframe tbody tr th:only-of-type {\n",
       "        vertical-align: middle;\n",
       "    }\n",
       "\n",
       "    .dataframe tbody tr th {\n",
       "        vertical-align: top;\n",
       "    }\n",
       "\n",
       "    .dataframe thead th {\n",
       "        text-align: right;\n",
       "    }\n",
       "</style>\n",
       "<table border=\"1\" class=\"dataframe\">\n",
       "  <thead>\n",
       "    <tr style=\"text-align: right;\">\n",
       "      <th></th>\n",
       "      <th>Movie</th>\n",
       "      <th>C_Year</th>\n",
       "      <th>C_RunTime</th>\n",
       "      <th>Genre</th>\n",
       "      <th>Rating</th>\n",
       "      <th>Director</th>\n",
       "      <th>Actor</th>\n",
       "      <th>C_Votes</th>\n",
       "      <th>Description</th>\n",
       "      <th>C_IMDB_Score</th>\n",
       "      <th>Category</th>\n",
       "      <th>movie_imdb_score_rank</th>\n",
       "      <th>Weighted_average</th>\n",
       "    </tr>\n",
       "  </thead>\n",
       "  <tbody>\n",
       "    <tr>\n",
       "      <th>230</th>\n",
       "      <td>WandaVision</td>\n",
       "      <td>2021</td>\n",
       "      <td>47</td>\n",
       "      <td>Action,Comedy,Drama</td>\n",
       "      <td>TV-PG</td>\n",
       "      <td>MattShakman</td>\n",
       "      <td>ElizabethOlsen,PaulBettany,KathrynHahn,JulianH...</td>\n",
       "      <td>17490</td>\n",
       "      <td>Wanda embarks on a troubling journey revisitin...</td>\n",
       "      <td>9</td>\n",
       "      <td>Marvel</td>\n",
       "      <td>1</td>\n",
       "      <td>22467.071371</td>\n",
       "    </tr>\n",
       "    <tr>\n",
       "      <th>1401</th>\n",
       "      <td>Lucifer</td>\n",
       "      <td>2016</td>\n",
       "      <td>43</td>\n",
       "      <td>Crime,Drama,Fantasy</td>\n",
       "      <td>TV-14</td>\n",
       "      <td>AlrickRiley</td>\n",
       "      <td>TomEllis,LaurenGerman,KevinAlejandro,D.B.Woodside</td>\n",
       "      <td>5631</td>\n",
       "      <td>Lucifer returns to hell to find an antidote fo...</td>\n",
       "      <td>9</td>\n",
       "      <td>DC</td>\n",
       "      <td>1</td>\n",
       "      <td>16188.777254</td>\n",
       "    </tr>\n",
       "    <tr>\n",
       "      <th>1220</th>\n",
       "      <td>Young Justice</td>\n",
       "      <td>2010</td>\n",
       "      <td>22</td>\n",
       "      <td>Animation,Action,Adventure</td>\n",
       "      <td>TV-PG</td>\n",
       "      <td>MichaelChang</td>\n",
       "      <td>JesseMcCartney,DanicaMcKellar,StephanieLemelin...</td>\n",
       "      <td>660</td>\n",
       "      <td>When the cave is attacked, can Artemis and Rob...</td>\n",
       "      <td>9</td>\n",
       "      <td>DC</td>\n",
       "      <td>2</td>\n",
       "      <td>13557.071371</td>\n",
       "    </tr>\n",
       "    <tr>\n",
       "      <th>278</th>\n",
       "      <td>Agents of S.H.I.E.L.D.</td>\n",
       "      <td>20132020</td>\n",
       "      <td>43</td>\n",
       "      <td>Action,Adventure,Drama</td>\n",
       "      <td>TV-PG</td>\n",
       "      <td>JesseBochco</td>\n",
       "      <td>ClarkGregg,Ming-NaWen,BrettDalton,ChloeBennet</td>\n",
       "      <td>4623</td>\n",
       "      <td>After her dramatic rescue from another planet,...</td>\n",
       "      <td>9</td>\n",
       "      <td>Marvel</td>\n",
       "      <td>2</td>\n",
       "      <td>15655.130195</td>\n",
       "    </tr>\n",
       "    <tr>\n",
       "      <th>281</th>\n",
       "      <td>Agents of S.H.I.E.L.D.</td>\n",
       "      <td>20132020</td>\n",
       "      <td>43</td>\n",
       "      <td>Action,Adventure,Drama</td>\n",
       "      <td>TV-PG</td>\n",
       "      <td>GarryA.Brown</td>\n",
       "      <td>ClarkGregg,Ming-NaWen,BrettDalton,ChloeBennet</td>\n",
       "      <td>2686</td>\n",
       "      <td>Dangerous facts about the ATCU are discovered ...</td>\n",
       "      <td>9</td>\n",
       "      <td>Marvel</td>\n",
       "      <td>3</td>\n",
       "      <td>14629.659607</td>\n",
       "    </tr>\n",
       "  </tbody>\n",
       "</table>\n",
       "</div>"
      ],
      "text/plain": [
       "                        Movie    C_Year  C_RunTime  \\\n",
       "230               WandaVision      2021         47   \n",
       "1401                  Lucifer      2016         43   \n",
       "1220            Young Justice      2010         22   \n",
       "278    Agents of S.H.I.E.L.D.  20132020         43   \n",
       "281    Agents of S.H.I.E.L.D.  20132020         43   \n",
       "\n",
       "                           Genre Rating      Director  \\\n",
       "230          Action,Comedy,Drama  TV-PG   MattShakman   \n",
       "1401         Crime,Drama,Fantasy  TV-14   AlrickRiley   \n",
       "1220  Animation,Action,Adventure  TV-PG  MichaelChang   \n",
       "278       Action,Adventure,Drama  TV-PG   JesseBochco   \n",
       "281       Action,Adventure,Drama  TV-PG  GarryA.Brown   \n",
       "\n",
       "                                                  Actor  C_Votes  \\\n",
       "230   ElizabethOlsen,PaulBettany,KathrynHahn,JulianH...    17490   \n",
       "1401  TomEllis,LaurenGerman,KevinAlejandro,D.B.Woodside     5631   \n",
       "1220  JesseMcCartney,DanicaMcKellar,StephanieLemelin...      660   \n",
       "278       ClarkGregg,Ming-NaWen,BrettDalton,ChloeBennet     4623   \n",
       "281       ClarkGregg,Ming-NaWen,BrettDalton,ChloeBennet     2686   \n",
       "\n",
       "                                            Description  C_IMDB_Score  \\\n",
       "230   Wanda embarks on a troubling journey revisitin...             9   \n",
       "1401  Lucifer returns to hell to find an antidote fo...             9   \n",
       "1220  When the cave is attacked, can Artemis and Rob...             9   \n",
       "278   After her dramatic rescue from another planet,...             9   \n",
       "281   Dangerous facts about the ATCU are discovered ...             9   \n",
       "\n",
       "     Category  movie_imdb_score_rank  Weighted_average  \n",
       "230    Marvel                      1      22467.071371  \n",
       "1401       DC                      1      16188.777254  \n",
       "1220       DC                      2      13557.071371  \n",
       "278    Marvel                      2      15655.130195  \n",
       "281    Marvel                      3      14629.659607  "
      ]
     },
     "execution_count": 53,
     "metadata": {},
     "output_type": "execute_result"
    }
   ],
   "source": [
    "dframe.head()"
   ]
  },
  {
   "cell_type": "code",
   "execution_count": 54,
   "metadata": {},
   "outputs": [
    {
     "data": {
      "text/html": [
       "<div>\n",
       "<style scoped>\n",
       "    .dataframe tbody tr th:only-of-type {\n",
       "        vertical-align: middle;\n",
       "    }\n",
       "\n",
       "    .dataframe tbody tr th {\n",
       "        vertical-align: top;\n",
       "    }\n",
       "\n",
       "    .dataframe thead th {\n",
       "        text-align: right;\n",
       "    }\n",
       "</style>\n",
       "<table border=\"1\" class=\"dataframe\">\n",
       "  <thead>\n",
       "    <tr style=\"text-align: right;\">\n",
       "      <th></th>\n",
       "      <th>Movie</th>\n",
       "      <th>C_Votes</th>\n",
       "      <th>C_IMDB_Score</th>\n",
       "      <th>movie_imdb_score_rank</th>\n",
       "      <th>Weighted_average</th>\n",
       "    </tr>\n",
       "  </thead>\n",
       "  <tbody>\n",
       "    <tr>\n",
       "      <th>394</th>\n",
       "      <td>The Dark Knight</td>\n",
       "      <td>2361064</td>\n",
       "      <td>9</td>\n",
       "      <td>40</td>\n",
       "      <td>1.263183e+06</td>\n",
       "    </tr>\n",
       "    <tr>\n",
       "      <th>399</th>\n",
       "      <td>The Dark Knight Rises</td>\n",
       "      <td>1547852</td>\n",
       "      <td>8</td>\n",
       "      <td>410</td>\n",
       "      <td>7.879591e+05</td>\n",
       "    </tr>\n",
       "    <tr>\n",
       "      <th>408</th>\n",
       "      <td>Batman Begins</td>\n",
       "      <td>1334536</td>\n",
       "      <td>8</td>\n",
       "      <td>587</td>\n",
       "      <td>6.813011e+05</td>\n",
       "    </tr>\n",
       "    <tr>\n",
       "      <th>22</th>\n",
       "      <td>The Avengers</td>\n",
       "      <td>1283515</td>\n",
       "      <td>8</td>\n",
       "      <td>111</td>\n",
       "      <td>6.557906e+05</td>\n",
       "    </tr>\n",
       "    <tr>\n",
       "      <th>7</th>\n",
       "      <td>Guardians of the Galaxy</td>\n",
       "      <td>1066222</td>\n",
       "      <td>8</td>\n",
       "      <td>31</td>\n",
       "      <td>5.471441e+05</td>\n",
       "    </tr>\n",
       "    <tr>\n",
       "      <th>...</th>\n",
       "      <td>...</td>\n",
       "      <td>...</td>\n",
       "      <td>...</td>\n",
       "      <td>...</td>\n",
       "      <td>...</td>\n",
       "    </tr>\n",
       "    <tr>\n",
       "      <th>1493</th>\n",
       "      <td>Young Justice</td>\n",
       "      <td>301</td>\n",
       "      <td>9</td>\n",
       "      <td>42</td>\n",
       "      <td>1.336701e+04</td>\n",
       "    </tr>\n",
       "    <tr>\n",
       "      <th>981</th>\n",
       "      <td>Teen Titans</td>\n",
       "      <td>276</td>\n",
       "      <td>9</td>\n",
       "      <td>13</td>\n",
       "      <td>1.335378e+04</td>\n",
       "    </tr>\n",
       "    <tr>\n",
       "      <th>1038</th>\n",
       "      <td>The Batman</td>\n",
       "      <td>154</td>\n",
       "      <td>9</td>\n",
       "      <td>29</td>\n",
       "      <td>1.328919e+04</td>\n",
       "    </tr>\n",
       "    <tr>\n",
       "      <th>789</th>\n",
       "      <td>Duck Dodgers</td>\n",
       "      <td>111</td>\n",
       "      <td>9</td>\n",
       "      <td>17</td>\n",
       "      <td>1.326642e+04</td>\n",
       "    </tr>\n",
       "    <tr>\n",
       "      <th>1070</th>\n",
       "      <td>Krypto the Superdog</td>\n",
       "      <td>6</td>\n",
       "      <td>9</td>\n",
       "      <td>65</td>\n",
       "      <td>1.321084e+04</td>\n",
       "    </tr>\n",
       "  </tbody>\n",
       "</table>\n",
       "<p>1247 rows × 5 columns</p>\n",
       "</div>"
      ],
      "text/plain": [
       "                        Movie  C_Votes  C_IMDB_Score  movie_imdb_score_rank  \\\n",
       "394           The Dark Knight  2361064             9                     40   \n",
       "399     The Dark Knight Rises  1547852             8                    410   \n",
       "408             Batman Begins  1334536             8                    587   \n",
       "22               The Avengers  1283515             8                    111   \n",
       "7     Guardians of the Galaxy  1066222             8                     31   \n",
       "...                       ...      ...           ...                    ...   \n",
       "1493            Young Justice      301             9                     42   \n",
       "981               Teen Titans      276             9                     13   \n",
       "1038               The Batman      154             9                     29   \n",
       "789              Duck Dodgers      111             9                     17   \n",
       "1070      Krypto the Superdog        6             9                     65   \n",
       "\n",
       "      Weighted_average  \n",
       "394       1.263183e+06  \n",
       "399       7.879591e+05  \n",
       "408       6.813011e+05  \n",
       "22        6.557906e+05  \n",
       "7         5.471441e+05  \n",
       "...                ...  \n",
       "1493      1.336701e+04  \n",
       "981       1.335378e+04  \n",
       "1038      1.328919e+04  \n",
       "789       1.326642e+04  \n",
       "1070      1.321084e+04  \n",
       "\n",
       "[1247 rows x 5 columns]"
      ]
     },
     "execution_count": 54,
     "metadata": {},
     "output_type": "execute_result"
    }
   ],
   "source": [
    "movie_rankings = dframe.sort_values('Weighted_average',ascending=False)\n",
    "movie_rankings[['Movie','C_Votes','C_IMDB_Score', 'movie_imdb_score_rank','Weighted_average']]"
   ]
  },
  {
   "cell_type": "code",
   "execution_count": 55,
   "metadata": {},
   "outputs": [
    {
     "data": {
      "text/plain": [
       "Text(0, 0.5, 'Movie Title')"
      ]
     },
     "execution_count": 55,
     "metadata": {},
     "output_type": "execute_result"
    },
    {
     "data": {
      "image/png": "[encoded data removed]",
      "text/plain": [
       "<Figure size 504x360 with 1 Axes>"
      ]
     },
     "metadata": {},
     "output_type": "display_data"
    }
   ],
   "source": [
    "#Compare the top 6 movies \n",
    "\n",
    "weighted_average = dframe.sort_values('Weighted_average',ascending=False)\n",
    "plt.figure(figsize=(7,5))\n",
    "axis1 = sns.barplot(x = dframe['Weighted_average'].head(10),y = dframe['Movie'].head(10))\n",
    "\n",
    "plt.title('Best Movies according to Average Vote given by Users',weight='bold')\n",
    "plt.xlabel('Weighted Average Score',weight='bold')\n",
    "plt.ylabel('Movie Title',weight='bold')"
   ]
  },
  {
   "cell_type": "code",
   "execution_count": null,
   "metadata": {},
   "outputs": [],
   "source": []
  },
  {
   "cell_type": "code",
   "execution_count": null,
   "metadata": {},
   "outputs": [],
   "source": []
  }
 ],
 "metadata": {
  "kernelspec": {
   "display_name": "Python 3",
   "language": "python",
   "name": "python3"
  },
  "language_info": {
   "codemirror_mode": {
    "name": "ipython",
    "version": 3
   },
   "file_extension": ".py",
   "mimetype": "text/x-python",
   "name": "python",
   "nbconvert_exporter": "python",
   "pygments_lexer": "ipython3",
   "version": "3.8.3"
  }
 },
 "nbformat": 4,
 "nbformat_minor": 4
}
